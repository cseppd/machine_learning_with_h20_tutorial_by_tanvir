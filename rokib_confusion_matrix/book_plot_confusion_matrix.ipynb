{
  "nbformat": 4,
  "nbformat_minor": 0,
  "metadata": {
    "kernelspec": {
      "display_name": "Python 3",
      "language": "python",
      "name": "python3"
    },
    "language_info": {
      "codemirror_mode": {
        "name": "ipython",
        "version": 3
      },
      "file_extension": ".py",
      "mimetype": "text/x-python",
      "name": "python",
      "nbconvert_exporter": "python",
      "pygments_lexer": "ipython3",
      "version": "3.8.1"
    },
    "colab": {
      "name": "book_plot_confusion_matrix.ipynb",
      "provenance": [],
      "collapsed_sections": [],
      "include_colab_link": true
    }
  },
  "cells": [
    {
      "cell_type": "markdown",
      "metadata": {
        "id": "view-in-github",
        "colab_type": "text"
      },
      "source": [
        "<a href=\"https://colab.research.google.com/github/raqueeb/Intermediate-scikit-learn/blob/master/book_plot_confusion_matrix.ipynb\" target=\"_parent\"><img src=\"https://colab.research.google.com/assets/colab-badge.svg\" alt=\"Open In Colab\"/></a>"
      ]
    },
    {
      "cell_type": "code",
      "metadata": {
        "id": "DojIwN0y40S9",
        "colab_type": "code",
        "colab": {}
      },
      "source": [
        "%matplotlib inline"
      ],
      "execution_count": 0,
      "outputs": []
    },
    {
      "cell_type": "markdown",
      "metadata": {
        "id": "DWTgPWeAjfnP",
        "colab_type": "text"
      },
      "source": [
        "## 'কনফিউশন ম্যাট্রিক্স' নিয়ে কনফিউশন নয় আর\n",
        "\n",
        "মনে আছে ক্লাসিফিকেশনস সমস্যার জন্য আমরা ব্যবহার করেছিলাম অ্যাকুরেসির একটা পরিমাপ? আমাদের সুপারভাইজার মডেল কেমন পারফর্ম করছে তার একটা সামারি বোঝা যায় এই অ্যাকুরেসি থেকে। ক্লাসিফিকেশন সমস্যার সবচেয়ে সহজ ব্যাপারটা আমরা দেখেছি বাইনারি ক্লাসিফিকেশন এ। মেশিন লার্নিং সমস্যায় এটা বেশ কমন এবং কনসেপচুয়ালি আমাদের কাজে লাগে। বাইনারি ক্লাসিফিকেশন মানে হচ্ছে সেটার আউটকাম হবে পজেটিভ অথবা নেগেটিভ। হ্যাঁ অথবা না। আমাদের মডেল কেমন ফাংশন করছে সেটা নির্ভর করবে এই পজিটিভ এবং নেগেটিভ ক্লাস কতটা ভুল করছে তার ম্যাট্রিক্স এ। তবে এখানে একটা কথা আছে - পজেটিভ মানে সেটা যে ভালো বা সেটা আমাদেরকে বেশি বেনিফিট বা ভ্যালু দেয় সেরকম না কিন্তু। এটা নির্ভর করবে আমরা কি ধরনের স্টাডি করছি এবং তার অবজেক্টিভ কি? আবার নেগেটিভ মানে যে খারাপ সে রকম নাও হতে পারে, এটা নির্ভর করছে আমরা কি ধরনের আউটকাম আশা করছি।\n",
        "\n",
        "একটা গল্প দিলে বোঝা যাবে বেশি। আমার পাঠকেরা আমাকে বেশি গল্প দিতে বলেন।\n",
        "\n",
        "ধরা যাক আমরা একটা অ্যাপ্লিকেশন ডেভলপ করছি যার কাজ হচ্ছে একজন সম্ভাব্য রোগীকে স্ক্রিনিং করে আলাদা করে ফেলবে তার সেই রোগটা আছে অথবা নেই। এটাকে কিছুটা অটোমেটেড আর্লি ডিটেকশন বলতে পারি যাতে সেই সম্ভাব্য রোগী পুরোপুরি অসুস্থ হবার আগেই তাকে ঠিকমতো ট্রিটমেন্ট দেয়া যায়। শুরুতেই যদি টেস্টটা নেগেটিভ হয় তাহলে আমরা ধরে নেব সম্ভাব্য রোগী সুস্থ আছেন। এর পাশাপাশি যদি এই স্ক্রিনিং টেস্ট পজিটিভ হয় তাহলে সেই রোগীকে আরও বাড়তি টেস্ট এর মধ্যে দিয়ে যেতে হবে। \n",
        "\n",
        "কিভাবে এটা সমস্যা হলো?\n",
        "\n",
        "এখানে আমরা পজিটিভ ক্লাসকে আসলে নেগেটিভ ধারণা বলতে পারি, কারণ একজন রোগী যখন পজিটিভ হবেন - সেটা আসলে রোগীর কাছে একটা নেগেটিভ জিনিস। আসল কথা কেউ এখানে পজিটিভ হতে চাইবেন না। বরং এই স্ক্রিনিং টেস্ট এর আউটকাম যদি নেগেটিভ হয় সেটাই রোগীর জন্য পজিটিভ। অর্থাৎ আমরা চাইব টেস্টে যত নেগেটিভ হয় ততই ভালো। তাই বলে যে আমাদের মডেল সব সময় ঠিকমতো পজেটিভ বা নেগেটিভ আউটকাম দিতে পারবে সেটাও না। যখন আমাদের অ্যাপ্লিকেশন সত্যিকারের পজিটিভকে নেগেটিভ অথবা সত্যিকারের নেগেটিভকে পজেটিভ বলবে তখনই সমস্যা হয়ে যাবে দুদিকেই। এই ভুল দুদিকে হলেও দুদিকেই দু'ধরনের কনসিকোয়েন্স আছে। হয়তোবা একটা ভুল থেকে আরেকটা ভুলের মাশুল দিতে হবে অনেক বেশি, তবুও আমরা চাইব না কোনভাবেই এই দুই ধরনের ভুল হোক।\n",
        "\n",
        "কি কি ভুল হতে পারে? \n",
        "\n",
        "প্রথম ভুল হবে যখন একজন সুস্থ মানুষকে সেই অ্যাপ্লিকেশনটা পজিটিভ হিসেবে দেখাবে, তখন সেই মানুষটাকে রোগী বলবো এবং তাকে পরবর্তী কয়েকটা টেস্ট এর মধ্যে দিয়ে যেতে হবে। এতে সমস্যা দুটো। প্রথমত, সেই মানুষটি মানসিকভাবে বিপর্যস্ত হয়ে পড়বে, দ্বিতীয়তঃ তার খরচ বাড়তে থাকবে নতুন টেস্টগুলোর জন্য। এই ভুল পজিটিভ প্রেডিকশন কে আমরা বলি ‘ফলস পজিটিভ’। এটাকে পরিসংখ্যানের ভাষায় আমরা বলি টাইপ ১ এরর। \n",
        "\n",
        "তবে, দ্বিতীয় ভুলটি ভয়াবহ। একজন সত্যিকারের রোগীকে এই অ্যাপ্লিকেশন নেগেটিভ হিসেবে ক্লাসিফাই করবে, এর মানে হচ্ছে তাকে আর পরবর্তী নতুন কোন টেস্ট এবং তার অ্যাসোসিয়েটেড ট্রিটমেন্ট বাদ পড়ে যেতে পারে। এর ফলাফল সেই সত্যিকারের রোগীকে ভয়াবহ দিকে ঠেলে দিতে পারে। এ ধরনের ভুল যাকে আমরা বলছি ভুল নেগেটিভ প্রেডিকশন, তাকে আমরা মেশিন লার্নিং এ ভাষায় বলি ‘ফলস নেগেটিভ’। পরিসংখ্যানের ভাষায় আমরা এই ‘ফলস নেগেটিভ’কে বলি টাইপ ২ এরর।\n",
        "\n",
        "এখানে কি চাইবো?\n",
        "\n",
        "আমরা চাইবো যেকোনোভাবে যাতে আমাদের অ্যাপ্লিকেশন যত কম ‘ফলস নেগেটিভ’ দিতে পারে। ‘ফলস নেগেটিভ’ একটা ভয়াবহ জিনিস বিশেষ করে রোগের ক্ষেত্রে। সেই থেকে ‘ফলস পজিটিভ’ হলে আমরা সেই সুস্থ মানুষের কাছে ক্ষমা চেয়ে নেব। তবে আমরা চেষ্টা করব যাতে দুটো ভুলই কমে আসে আমাদের এপ্লিকেশনে।\n",
        "\n",
        "আমাদের কি করনীয়?\n",
        "\n",
        "বাইনারি ক্লাসিফিকেশনকে ঠিকমতো ইভালুয়েট করতে হলে একটা ভালো কম্প্রিহেনসিভ গাইডলাইন হচ্ছে ‘কনফিউশন মাট্রিক্স’ ব্যবহার করা। যখন আমাদের ক্লাসিফিয়ের তার প্রেডিকশন এ কনফিউজড হয়ে ভুল করবে, তখন আমাদের জানা দরকার সে আসলে কোন ভুল করতে অন্য কি ভুল করে ফেলল? বাইনারি ক্লাসিফিকেশন না হলে যদি অন্যান্য ক্লাসিফিকেশন নিয়ে কাজ কাজ করতাম, তাহলে কি হতো? ধরা যাক আমরা ডিজিট রিকগনিশন মানে সংখ্যকে ঠিকমতো ক্লাসিফাই করতে পারছে কিনা সেটা দেখতে চাইছি। তখন আমরা দেখতে চাইবো সংখ্যা ১ আসলে মিসক্লাসিফাই হয়ে অন্য কোন সংখ্যায় রূপান্তর হচ্ছে, অথবা সংখ্যা ৬ কতবার ভুল করে সংখ্যা ৮ এর মত করে ক্লাসিফাই হচ্ছে। বেশি বলে ফেললাম?\n",
        "\n",
        "আচ্ছা ঠিক আছে, আমরা আপাতত বাইনারি ক্লাসিফিকেশন নিয়েই থাকি। যেহেতু বাইনারি ক্লাসিফিকেশন এর আউটকাম মাত্র দুটো, এর মানে হচ্ছে আমাদের কনফিউশন ম্যাট্রিক্সের দুটো সারি এবং দুটো কলাম থাকবে। আমরা এভাবে বলতে পারি এটা একটা ২ বাই ৩ অ্যারে, যেখানে সারিগুলো রিপ্রেজেন্ট করছে সত্যিকারের আসল ক্লাসকে। ছবি দেখুন, মোট চারটা সেল। আমাদের কলামগুলো রিপ্রেজেন্ট করছে প্রেডিকটেড ক্লাসকে। এখানে প্রথম কলামে কতগুলো পজিটিভ স্যাম্পলকে পজেটিভ অথবা নেগেটিভ হিসেবে প্রেডিক্ট করেছে। এরপরের কলামে আমরা দেখব কতগুলো নেগেটিভ স্যাম্পলকে ভুল করে পজেটিভ অথবা নেগেটিভ হিসেবে প্রেডিক্ট করেছে।\n",
        "\n",
        "আমরা হাতেকলমের মানুষ, দেখি হাতেকলমে।\n"
      ]
    },
    {
      "cell_type": "code",
      "metadata": {
        "id": "ypCMFQAOMCCo",
        "colab_type": "code",
        "colab": {}
      },
      "source": [
        "# ০ হচ্ছে নেগেটিভ, ১ হচ্ছে পজিটিভ\n",
        "# ০ মানে রোগ নেই, ১ মানে রোগ আছে\n",
        "# ৪ জন রোগীর স্যাম্পল\n",
        "y_true = [1, 1, 0, 1]\n",
        "y_pred = [1, 1, 0, 1]"
      ],
      "execution_count": 0,
      "outputs": []
    },
    {
      "cell_type": "code",
      "metadata": {
        "id": "1oqS83QQx4yW",
        "colab_type": "code",
        "outputId": "c118ebe1-4a95-4207-c28b-07022ac12fd9",
        "colab": {
          "base_uri": "https://localhost:8080/",
          "height": 50
        }
      },
      "source": [
        "from sklearn.metrics import confusion_matrix\n",
        "\n",
        "labels=[0,1] # ০ মানে রোগ নেই, ১ মানে রোগ আছে\n",
        "\n",
        "# confusion_matrix(y_true, y_pred, labels=[0,1]) একই জিনিস\n",
        "# confusion_matrix(y_true, y_pred, labels)\n",
        "confusion_matrix(y_true, y_pred)"
      ],
      "execution_count": 19,
      "outputs": [
        {
          "output_type": "execute_result",
          "data": {
            "text/plain": [
              "array([[1, 0],\n",
              "       [0, 3]])"
            ]
          },
          "metadata": {
            "tags": []
          },
          "execution_count": 19
        }
      ]
    },
    {
      "cell_type": "code",
      "metadata": {
        "id": "t83MvA7GyEcd",
        "colab_type": "code",
        "outputId": "3062e68c-6d85-4cb0-d012-8fcf09cf9f8c",
        "colab": {
          "base_uri": "https://localhost:8080/",
          "height": 50
        }
      },
      "source": [
        "y_true = [1, 1, 0, 1]\n",
        "y_pred = [1, 0, 1, 1]\n",
        "\n",
        "confusion_matrix(y_true, y_pred)"
      ],
      "execution_count": 20,
      "outputs": [
        {
          "output_type": "execute_result",
          "data": {
            "text/plain": [
              "array([[0, 1],\n",
              "       [1, 2]])"
            ]
          },
          "metadata": {
            "tags": []
          },
          "execution_count": 20
        }
      ]
    },
    {
      "cell_type": "markdown",
      "metadata": {
        "id": "3Q4vWuDKwWb7",
        "colab_type": "text"
      },
      "source": [
        "![alt text](https://github.com/raqueeb/Intermediate-scikit-learn/raw/master/assets/cm-1.png)"
      ]
    },
    {
      "cell_type": "code",
      "metadata": {
        "id": "LjNCvw3kUTth",
        "colab_type": "code",
        "outputId": "67d1a208-137a-4b0a-9f88-0b4b2811966f",
        "colab": {
          "base_uri": "https://localhost:8080/",
          "height": 286
        }
      },
      "source": [
        "import seaborn as sns\n",
        "\n",
        "cm = confusion_matrix(y_true, y_pred)\n",
        "\n",
        "sns.heatmap(cm, annot=True)\n"
      ],
      "execution_count": 21,
      "outputs": [
        {
          "output_type": "execute_result",
          "data": {
            "text/plain": [
              "<matplotlib.axes._subplots.AxesSubplot at 0x7fbb118ce198>"
            ]
          },
          "metadata": {
            "tags": []
          },
          "execution_count": 21
        },
        {
          "output_type": "display_data",
          "data": {
            "image/png": "[encoded data removed]",
            "text/plain": [
              "<Figure size 432x288 with 2 Axes>"
            ]
          },
          "metadata": {
            "tags": []
          }
        }
      ]
    },
    {
      "cell_type": "code",
      "metadata": {
        "id": "8qTCeLyrRRMf",
        "colab_type": "code",
        "outputId": "61592285-7e88-4251-95aa-ae67486af021",
        "colab": {
          "base_uri": "https://localhost:8080/",
          "height": 286
        }
      },
      "source": [
        "import numpy as np\n",
        "\n",
        "sns.heatmap(cm/np.sum(cm), annot=True, fmt='.2%', cmap='Blues')"
      ],
      "execution_count": 22,
      "outputs": [
        {
          "output_type": "execute_result",
          "data": {
            "text/plain": [
              "<matplotlib.axes._subplots.AxesSubplot at 0x7fbb1180cb70>"
            ]
          },
          "metadata": {
            "tags": []
          },
          "execution_count": 22
        },
        {
          "output_type": "display_data",
          "data": {
            "image/png": "[encoded data removed]",
            "text/plain": [
              "<Figure size 432x288 with 2 Axes>"
            ]
          },
          "metadata": {
            "tags": []
          }
        }
      ]
    },
    {
      "cell_type": "code",
      "metadata": {
        "id": "gHzpg5_G8p5D",
        "colab_type": "code",
        "outputId": "2a57594e-3d0c-423f-a37c-f310f3aa3192",
        "colab": {
          "base_uri": "https://localhost:8080/",
          "height": 34
        }
      },
      "source": [
        "from sklearn.metrics import accuracy_score\n",
        "\n",
        "accuracy_score(y_true, y_pred) "
      ],
      "execution_count": 23,
      "outputs": [
        {
          "output_type": "execute_result",
          "data": {
            "text/plain": [
              "0.5"
            ]
          },
          "metadata": {
            "tags": []
          },
          "execution_count": 23
        }
      ]
    },
    {
      "cell_type": "markdown",
      "metadata": {
        "id": "1fTghmHns6Vh",
        "colab_type": "text"
      },
      "source": [
        "এখানে ম্যাচ কয়টা?\n",
        "\n",
        "ম্যাচের সংখ্যা = ২\n",
        "স্যাম্পলের সংখ্যা = ৪\n",
        "\n",
        "অ্যাক্যুরেসি = ম্যাচ/স্যাম্পল\n",
        "অ্যাক্যুরেসি = ২/৪\n",
        "অ্যাক্যুরেসি = ০.৫০"
      ]
    },
    {
      "cell_type": "code",
      "metadata": {
        "id": "2zLOJbIWWBVO",
        "colab_type": "code",
        "outputId": "03ae0d52-3a3b-4321-e453-ba7fbc0ff6f2",
        "colab": {
          "base_uri": "https://localhost:8080/",
          "height": 168
        }
      },
      "source": [
        "from sklearn.metrics import classification_report\n",
        "\n",
        "print(classification_report(y_true, y_pred, digits=2))"
      ],
      "execution_count": 24,
      "outputs": [
        {
          "output_type": "stream",
          "text": [
            "              precision    recall  f1-score   support\n",
            "\n",
            "           0       0.00      0.00      0.00         1\n",
            "           1       0.67      0.67      0.67         3\n",
            "\n",
            "    accuracy                           0.50         4\n",
            "   macro avg       0.33      0.33      0.33         4\n",
            "weighted avg       0.50      0.50      0.50         4\n",
            "\n"
          ],
          "name": "stdout"
        }
      ]
    },
    {
      "cell_type": "code",
      "metadata": {
        "id": "HvACgnFrSTfK",
        "colab_type": "code",
        "outputId": "1eeeaf50-f7b9-4a86-e957-e94003f73ad4",
        "colab": {
          "base_uri": "https://localhost:8080/",
          "height": 286
        }
      },
      "source": [
        "# কোড দেখার প্রয়োজন নেই, শুধুমাত্র বোঝার জন্য, ধারণা বুঝলে পরে কোড বুঝবো\n",
        "\n",
        "labels = ['True Neg','False Pos','False Neg','True Pos']\n",
        "labels = np.asarray(labels).reshape(2,2)\n",
        "sns.heatmap(cm, annot=labels, fmt='', cmap='Blues')"
      ],
      "execution_count": 25,
      "outputs": [
        {
          "output_type": "execute_result",
          "data": {
            "text/plain": [
              "<matplotlib.axes._subplots.AxesSubplot at 0x7fbb1180c0b8>"
            ]
          },
          "metadata": {
            "tags": []
          },
          "execution_count": 25
        },
        {
          "output_type": "display_data",
          "data": {
            "image/png": "[encoded data removed]",
            "text/plain": [
              "<Figure size 432x288 with 2 Axes>"
            ]
          },
          "metadata": {
            "tags": []
          }
        }
      ]
    },
    {
      "cell_type": "code",
      "metadata": {
        "id": "xFYp4Uf2SzHy",
        "colab_type": "code",
        "outputId": "fee002a6-eaa6-4a7d-a55c-988c1d87f99a",
        "colab": {
          "base_uri": "https://localhost:8080/",
          "height": 286
        }
      },
      "source": [
        "# কোড দেখার প্রয়োজন নেই, শুধুমাত্র বোঝার জন্য, ধারণা বুঝলে পরে কোড বুঝবো\n",
        "\n",
        "group_names = ['True Neg','False Pos','False Neg','True Pos']\n",
        "group_counts = ['{0:0.0f}'.format(value) for value in\n",
        "                cm.flatten()]\n",
        "group_percentages = ['{0:.2%}'.format(value) for value in\n",
        "                     cm.flatten()/np.sum(cm)]\n",
        "labels = [f'{v1}\\n{v2}\\n{v3}' for v1, v2, v3 in\n",
        "          zip(group_names,group_counts,group_percentages)]\n",
        "labels = np.asarray(labels).reshape(2,2)\n",
        "sns.heatmap(cm, annot=labels, fmt='', cmap='Blues')"
      ],
      "execution_count": 26,
      "outputs": [
        {
          "output_type": "execute_result",
          "data": {
            "text/plain": [
              "<matplotlib.axes._subplots.AxesSubplot at 0x7fbb116b7080>"
            ]
          },
          "metadata": {
            "tags": []
          },
          "execution_count": 26
        },
        {
          "output_type": "display_data",
          "data": {
            "image/png": "[encoded data removed]",
            "text/plain": [
              "<Figure size 432x288 with 2 Axes>"
            ]
          },
          "metadata": {
            "tags": []
          }
        }
      ]
    },
    {
      "cell_type": "code",
      "metadata": {
        "id": "zfAv8DdZXKib",
        "colab_type": "code",
        "outputId": "27885953-89b8-4c19-ddab-e5648b70619c",
        "colab": {
          "base_uri": "https://localhost:8080/",
          "height": 286
        }
      },
      "source": [
        "y_true = [2, 0, 2, 2, 0, 1]\n",
        "y_pred = [0, 0, 2, 2, 0, 2]\n",
        "\n",
        "sns.heatmap(confusion_matrix(y_true, y_pred), annot=True)"
      ],
      "execution_count": 27,
      "outputs": [
        {
          "output_type": "execute_result",
          "data": {
            "text/plain": [
              "<matplotlib.axes._subplots.AxesSubplot at 0x7fbb11612fd0>"
            ]
          },
          "metadata": {
            "tags": []
          },
          "execution_count": 27
        },
        {
          "output_type": "display_data",
          "data": {
            "image/png": "[encoded data removed]",
            "text/plain": [
              "<Figure size 432x288 with 2 Axes>"
            ]
          },
          "metadata": {
            "tags": []
          }
        }
      ]
    },
    {
      "cell_type": "code",
      "metadata": {
        "id": "hja-hy8pjkAC",
        "colab_type": "code",
        "outputId": "9bf88683-96e2-4ecc-9050-3e4629a9cb44",
        "colab": {
          "base_uri": "https://localhost:8080/",
          "height": 136
        }
      },
      "source": [
        "import pandas as pd\n",
        "\n",
        "y_Actual =    pd.Series([0, 0, 1, 0, 0, 1, 1, 1, 1, 1], name='Actual')\n",
        "y_Predicted = pd.Series([1, 0, 1, 0, 0, 0, 0, 1, 0, 0], name='Predicted')\n",
        "\n",
        "df_confusion = pd.crosstab(y_Actual, y_Actual)\n",
        "\n",
        "df_confusion"
      ],
      "execution_count": 28,
      "outputs": [
        {
          "output_type": "execute_result",
          "data": {
            "text/html": [
              "<div>\n",
              "<style scoped>\n",
              "    .dataframe tbody tr th:only-of-type {\n",
              "        vertical-align: middle;\n",
              "    }\n",
              "\n",
              "    .dataframe tbody tr th {\n",
              "        vertical-align: top;\n",
              "    }\n",
              "\n",
              "    .dataframe thead th {\n",
              "        text-align: right;\n",
              "    }\n",
              "</style>\n",
              "<table border=\"1\" class=\"dataframe\">\n",
              "  <thead>\n",
              "    <tr style=\"text-align: right;\">\n",
              "      <th>Actual</th>\n",
              "      <th>0</th>\n",
              "      <th>1</th>\n",
              "    </tr>\n",
              "    <tr>\n",
              "      <th>Actual</th>\n",
              "      <th></th>\n",
              "      <th></th>\n",
              "    </tr>\n",
              "  </thead>\n",
              "  <tbody>\n",
              "    <tr>\n",
              "      <th>0</th>\n",
              "      <td>4</td>\n",
              "      <td>0</td>\n",
              "    </tr>\n",
              "    <tr>\n",
              "      <th>1</th>\n",
              "      <td>0</td>\n",
              "      <td>6</td>\n",
              "    </tr>\n",
              "  </tbody>\n",
              "</table>\n",
              "</div>"
            ],
            "text/plain": [
              "Actual  0  1\n",
              "Actual      \n",
              "0       4  0\n",
              "1       0  6"
            ]
          },
          "metadata": {
            "tags": []
          },
          "execution_count": 28
        }
      ]
    },
    {
      "cell_type": "code",
      "metadata": {
        "id": "_PHv18RCBl-i",
        "colab_type": "code",
        "outputId": "67306386-7cd0-4f35-829b-5772e10a8a9d",
        "colab": {
          "base_uri": "https://localhost:8080/",
          "height": 300
        }
      },
      "source": [
        "import seaborn as sns\n",
        "\n",
        "sns.heatmap(df_confusion, annot=True)"
      ],
      "execution_count": 29,
      "outputs": [
        {
          "output_type": "execute_result",
          "data": {
            "text/plain": [
              "<matplotlib.axes._subplots.AxesSubplot at 0x7fbb148934a8>"
            ]
          },
          "metadata": {
            "tags": []
          },
          "execution_count": 29
        },
        {
          "output_type": "display_data",
          "data": {
            "image/png": "[encoded data removed]",
            "text/plain": [
              "<Figure size 432x288 with 2 Axes>"
            ]
          },
          "metadata": {
            "tags": []
          }
        }
      ]
    },
    {
      "cell_type": "code",
      "metadata": {
        "id": "7c_Qe6aOkGvQ",
        "colab_type": "code",
        "outputId": "6db68359-a91e-47d5-c79c-de3d276a662a",
        "colab": {
          "base_uri": "https://localhost:8080/",
          "height": 166
        }
      },
      "source": [
        "df_confusion = pd.crosstab(y_Actual, y_Predicted, rownames=['Actual'], colnames=['Predicted'], margins=True)\n",
        "\n",
        "df_confusion"
      ],
      "execution_count": 30,
      "outputs": [
        {
          "output_type": "execute_result",
          "data": {
            "text/html": [
              "<div>\n",
              "<style scoped>\n",
              "    .dataframe tbody tr th:only-of-type {\n",
              "        vertical-align: middle;\n",
              "    }\n",
              "\n",
              "    .dataframe tbody tr th {\n",
              "        vertical-align: top;\n",
              "    }\n",
              "\n",
              "    .dataframe thead th {\n",
              "        text-align: right;\n",
              "    }\n",
              "</style>\n",
              "<table border=\"1\" class=\"dataframe\">\n",
              "  <thead>\n",
              "    <tr style=\"text-align: right;\">\n",
              "      <th>Predicted</th>\n",
              "      <th>0</th>\n",
              "      <th>1</th>\n",
              "      <th>All</th>\n",
              "    </tr>\n",
              "    <tr>\n",
              "      <th>Actual</th>\n",
              "      <th></th>\n",
              "      <th></th>\n",
              "      <th></th>\n",
              "    </tr>\n",
              "  </thead>\n",
              "  <tbody>\n",
              "    <tr>\n",
              "      <th>0</th>\n",
              "      <td>3</td>\n",
              "      <td>1</td>\n",
              "      <td>4</td>\n",
              "    </tr>\n",
              "    <tr>\n",
              "      <th>1</th>\n",
              "      <td>4</td>\n",
              "      <td>2</td>\n",
              "      <td>6</td>\n",
              "    </tr>\n",
              "    <tr>\n",
              "      <th>All</th>\n",
              "      <td>7</td>\n",
              "      <td>3</td>\n",
              "      <td>10</td>\n",
              "    </tr>\n",
              "  </tbody>\n",
              "</table>\n",
              "</div>"
            ],
            "text/plain": [
              "Predicted  0  1  All\n",
              "Actual              \n",
              "0          3  1    4\n",
              "1          4  2    6\n",
              "All        7  3   10"
            ]
          },
          "metadata": {
            "tags": []
          },
          "execution_count": 30
        }
      ]
    },
    {
      "cell_type": "code",
      "metadata": {
        "id": "mECiVT2Kj6Ck",
        "colab_type": "code",
        "outputId": "7489fb47-9520-414a-c92f-d07c581e44c9",
        "colab": {
          "base_uri": "https://localhost:8080/",
          "height": 300
        }
      },
      "source": [
        "import seaborn as sns\n",
        "\n",
        "sns.heatmap(df_confusion, annot=True)"
      ],
      "execution_count": 31,
      "outputs": [
        {
          "output_type": "execute_result",
          "data": {
            "text/plain": [
              "<matplotlib.axes._subplots.AxesSubplot at 0x7fbb11962518>"
            ]
          },
          "metadata": {
            "tags": []
          },
          "execution_count": 31
        },
        {
          "output_type": "display_data",
          "data": {
            "image/png": "[encoded data removed]",
            "text/plain": [
              "<Figure size 432x288 with 2 Axes>"
            ]
          },
          "metadata": {
            "tags": []
          }
        }
      ]
    },
    {
      "cell_type": "code",
      "metadata": {
        "id": "448jDme0X4yQ",
        "colab_type": "code",
        "outputId": "8a983e25-e5da-43f9-b2ef-3e49b0d3d6ae",
        "colab": {
          "base_uri": "https://localhost:8080/",
          "height": 300
        }
      },
      "source": [
        "y_true = [\"cat\", \"ant\", \"cat\", \"cat\", \"ant\", \"bird\"]\n",
        "y_pred = [\"ant\", \"ant\", \"cat\", \"cat\", \"ant\", \"cat\"]\n",
        "\n",
        "cm = confusion_matrix(y_true, y_pred, labels=[\"ant\", \"bird\", \"cat\"])\n",
        "\n",
        "df_cm = pd.DataFrame(cm, columns=np.unique(y_true), index = np.unique(y_true))\n",
        "df_cm.index.name = 'Actual'\n",
        "df_cm.columns.name = 'Predicted'\n",
        "sns.heatmap(df_cm, cmap=\"Blues\", annot=True)"
      ],
      "execution_count": 32,
      "outputs": [
        {
          "output_type": "execute_result",
          "data": {
            "text/plain": [
              "<matplotlib.axes._subplots.AxesSubplot at 0x7fbb113f5780>"
            ]
          },
          "metadata": {
            "tags": []
          },
          "execution_count": 32
        },
        {
          "output_type": "display_data",
          "data": {
            "image/png": "[encoded data removed]",
            "text/plain": [
              "<Figure size 432x288 with 2 Axes>"
            ]
          },
          "metadata": {
            "tags": []
          }
        }
      ]
    },
    {
      "cell_type": "code",
      "metadata": {
        "id": "V1D4YJ_Covtd",
        "colab_type": "code",
        "colab": {}
      },
      "source": [
        "from sklearn import svm, datasets\n",
        "\n",
        "# import some data to play with\n",
        "iris = datasets.load_iris()\n",
        "X = iris.data\n",
        "y = iris.target\n",
        "class_names = iris.target_names"
      ],
      "execution_count": 0,
      "outputs": []
    },
    {
      "cell_type": "code",
      "metadata": {
        "id": "nsw6VLEFq0cQ",
        "colab_type": "code",
        "outputId": "62dc7169-5a8d-448d-a9c8-802b27bb7d76",
        "colab": {
          "base_uri": "https://localhost:8080/",
          "height": 34
        }
      },
      "source": [
        "print(iris.target_names)"
      ],
      "execution_count": 34,
      "outputs": [
        {
          "output_type": "stream",
          "text": [
            "['setosa' 'versicolor' 'virginica']\n"
          ],
          "name": "stdout"
        }
      ]
    },
    {
      "cell_type": "code",
      "metadata": {
        "id": "qXjU6NzPo50x",
        "colab_type": "code",
        "colab": {}
      },
      "source": [
        "from sklearn.model_selection import train_test_split\n",
        "\n",
        "# Split the data into a training set and a test set\n",
        "X_train, X_test, y_train, y_test = train_test_split(X, y, random_state=0)"
      ],
      "execution_count": 0,
      "outputs": []
    },
    {
      "cell_type": "code",
      "metadata": {
        "id": "y8wwfUzvrDSH",
        "colab_type": "code",
        "outputId": "c60480db-ae6f-4f7e-9417-6fedfabd3489",
        "colab": {
          "base_uri": "https://localhost:8080/",
          "height": 34
        }
      },
      "source": [
        "X_test.shape"
      ],
      "execution_count": 36,
      "outputs": [
        {
          "output_type": "execute_result",
          "data": {
            "text/plain": [
              "(38, 4)"
            ]
          },
          "metadata": {
            "tags": []
          },
          "execution_count": 36
        }
      ]
    },
    {
      "cell_type": "code",
      "metadata": {
        "id": "X36DjjgjrAz5",
        "colab_type": "code",
        "colab": {}
      },
      "source": [
        "# Run classifier, using a model that is too regularized (C too low) to see\n",
        "# the impact on the results\n",
        "classifier = svm.SVC(kernel='linear', C=0.01).fit(X_train, y_train)"
      ],
      "execution_count": 0,
      "outputs": []
    },
    {
      "cell_type": "code",
      "metadata": {
        "id": "9fIfKN8tpC_Z",
        "colab_type": "code",
        "outputId": "59062e58-09df-46d0-d87f-be95de2d4433",
        "colab": {
          "base_uri": "https://localhost:8080/",
          "height": 296
        }
      },
      "source": [
        "import matplotlib.pyplot as plt\n",
        "from sklearn.metrics import plot_confusion_matrix\n",
        "\n",
        "plot_confusion_matrix(classifier, X_test, y_test,\n",
        "                                  cmap=plt.cm.Blues,\n",
        "                                  display_labels=class_names)"
      ],
      "execution_count": 38,
      "outputs": [
        {
          "output_type": "execute_result",
          "data": {
            "text/plain": [
              "<sklearn.metrics._plot.confusion_matrix.ConfusionMatrixDisplay at 0x7fbb113efac8>"
            ]
          },
          "metadata": {
            "tags": []
          },
          "execution_count": 38
        },
        {
          "output_type": "display_data",
          "data": {
            "image/png": "[encoded data removed]",
            "text/plain": [
              "<Figure size 432x288 with 2 Axes>"
            ]
          },
          "metadata": {
            "tags": []
          }
        }
      ]
    },
    {
      "cell_type": "code",
      "metadata": {
        "id": "O0VCORKwqCot",
        "colab_type": "code",
        "outputId": "709df07b-fe75-4cf3-e343-7f0b5a16d652",
        "colab": {
          "base_uri": "https://localhost:8080/",
          "height": 34
        }
      },
      "source": [
        "(13 + 10 + 9) + 6"
      ],
      "execution_count": 39,
      "outputs": [
        {
          "output_type": "execute_result",
          "data": {
            "text/plain": [
              "38"
            ]
          },
          "metadata": {
            "tags": []
          },
          "execution_count": 39
        }
      ]
    },
    {
      "cell_type": "code",
      "metadata": {
        "id": "GzQqKgdBucmW",
        "colab_type": "code",
        "outputId": "7adde9a0-d3f6-4a8f-d04c-f8a20d63f6af",
        "colab": {
          "base_uri": "https://localhost:8080/",
          "height": 34
        }
      },
      "source": [
        "classifier.score(X_test, y_test)"
      ],
      "execution_count": 40,
      "outputs": [
        {
          "output_type": "execute_result",
          "data": {
            "text/plain": [
              "0.8421052631578947"
            ]
          },
          "metadata": {
            "tags": []
          },
          "execution_count": 40
        }
      ]
    },
    {
      "cell_type": "code",
      "metadata": {
        "id": "lK9CTG9BrhnO",
        "colab_type": "code",
        "outputId": "fdd56ca0-096a-4590-c51b-aa59f0375269",
        "colab": {
          "base_uri": "https://localhost:8080/",
          "height": 34
        }
      },
      "source": [
        "32 / 38"
      ],
      "execution_count": 41,
      "outputs": [
        {
          "output_type": "execute_result",
          "data": {
            "text/plain": [
              "0.8421052631578947"
            ]
          },
          "metadata": {
            "tags": []
          },
          "execution_count": 41
        }
      ]
    }
  ]
}